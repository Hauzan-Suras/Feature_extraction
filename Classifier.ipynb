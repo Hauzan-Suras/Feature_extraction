{
  "nbformat": 4,
  "nbformat_minor": 0,
  "metadata": {
    "colab": {
      "provenance": []
    },
    "kernelspec": {
      "name": "python3",
      "display_name": "Python 3"
    },
    "language_info": {
      "name": "python"
    }
  },
  "cells": [
    {
      "cell_type": "markdown",
      "source": [
        "#Import Libraries"
      ],
      "metadata": {
        "id": "FbvvUVU9aRfE"
      }
    },
    {
      "cell_type": "code",
      "source": [
        "import pandas as pd\n",
        "import sklearn\n",
        "import numpy as np  # Added this import\n",
        "from sklearn.model_selection import train_test_split, cross_val_score\n",
        "from sklearn import preprocessing\n",
        "from sklearn.metrics import confusion_matrix, accuracy_score, classification_report, precision_score, recall_score, f1_score\n",
        "from sklearn.model_selection import KFold\n",
        "from sklearn.linear_model import LogisticRegression\n",
        "from xgboost import XGBClassifier\n",
        "import warnings\n",
        "import time"
      ],
      "metadata": {
        "id": "dpI95zmoAuP_"
      },
      "execution_count": 1,
      "outputs": []
    },
    {
      "cell_type": "markdown",
      "source": [
        "#Evaluation Function"
      ],
      "metadata": {
        "id": "X9a8TGxd0DmB"
      }
    },
    {
      "cell_type": "code",
      "source": [
        "def evaluate_model(model, X, y, fold_count=10):\n",
        "    \"\"\"\n",
        "    Evaluate model using k-fold cross validation and return various metrics\n",
        "    \"\"\"\n",
        "    kf = KFold(n_splits=fold_count, shuffle=True, random_state=42)\n",
        "    scores = {'accuracy': [], 'precision': [], 'recall': [], 'f1': []}\n",
        "    train_times = []\n",
        "    test_times = []\n",
        "\n",
        "    for train_index, test_index in kf.split(X):\n",
        "        X_train, X_test = X[train_index], X[test_index]\n",
        "        y_train, y_test = y[train_index], y[test_index]\n",
        "\n",
        "        # Measure training time\n",
        "        train_start = time.time()\n",
        "        model.fit(X_train, y_train)\n",
        "        train_end = time.time()\n",
        "        train_times.append(train_end - train_start)\n",
        "\n",
        "        # Measure testing time\n",
        "        test_start = time.time()\n",
        "        y_pred = model.predict(X_test)\n",
        "        test_end = time.time()\n",
        "        test_times.append(test_end - test_start)\n",
        "\n",
        "        # Calculate metrics\n",
        "        scores['accuracy'].append(accuracy_score(y_test, y_pred))\n",
        "        scores['precision'].append(precision_score(y_test, y_pred))\n",
        "        scores['recall'].append(recall_score(y_test, y_pred))\n",
        "        scores['f1'].append(f1_score(y_test, y_pred))\n",
        "\n",
        "    return {\n",
        "        'accuracy': np.mean(scores['accuracy']),\n",
        "        'precision': np.mean(scores['precision']),\n",
        "        'recall': np.mean(scores['recall']),\n",
        "        'f1': np.mean(scores['f1']),\n",
        "        'train_time': np.mean(train_times),\n",
        "        'test_time': np.mean(test_times)\n",
        "    }"
      ],
      "metadata": {
        "id": "84Q4blVoFrjl"
      },
      "execution_count": 2,
      "outputs": []
    },
    {
      "cell_type": "code",
      "source": [
        "def mean_score(scoring):\n",
        "    return {i:j.mean() for i,j in scoring.items()}"
      ],
      "metadata": {
        "id": "x116MIzcS914"
      },
      "execution_count": 3,
      "outputs": []
    },
    {
      "cell_type": "markdown",
      "source": [
        "#Loading Data"
      ],
      "metadata": {
        "id": "ykS_neVVFtgp"
      }
    },
    {
      "cell_type": "code",
      "execution_count": 4,
      "metadata": {
        "colab": {
          "base_uri": "https://localhost:8080/"
        },
        "id": "mWN8oGrcqKrz",
        "outputId": "6b943513-2567-4719-ad38-0d70e6a856b0"
      },
      "outputs": [
        {
          "output_type": "stream",
          "name": "stdout",
          "text": [
            "\n",
            "5 random rows of data:\n",
            "       having_IP_Address  URL_Length  Shortining_Service  double_slash_redirecting  Prefix_Suffix  having_Sub_Domain  SSLfinal_State  suspicious_parameter  Favicon  HTTPS_token  Request_URL  URL_of_Anchor  Links_in_tags  SFH  Submitting_to_email  Abnormal_URL  Redirect  on_mouseover  RightClick  popUpWidnow  Iframe  age_of_domain  DNSRecord  web_traffic  Links_pointing_to_page  Statistical_report  Result\n",
            "12093                  1           1                   1                         1              1                  0               1                     1        1            1            1             -1              0    0                   -1            -1         1             1          -1            1      -1              1          1            0                       0                   1       0\n",
            "15253                  1           1                   1                         1              1                  0              -1                     1       -1            1           -1             -1              0    1                   -1             1         1             1          -1           -1      -1              1          1            0                      -1                   1       0\n",
            "36258                  1           1                   1                         1              1                  0              -1                     1        1            1            1             -1              0    1                   -1            -1         1             1          -1            1      -1             -1         -1            0                      -1                   1       1\n",
            "24990                  1           0                   1                         1              1                  0               1                     1       -1            1           -1              0              0    1                   -1            -1         0             1          -1           -1      -1             -1         -1            1                      -1                   1       1\n",
            "35066                  1           0                   1                         1              1                  1               1                     1        1            1            0             -1              0    1                   -1            -1         1             1          -1            1       1             -1         -1            1                      -1                   1       1\n"
          ]
        }
      ],
      "source": [
        "# Load and prepare data with visible index\n",
        "df = pd.read_csv(\"dataset.csv\", index_col=0)\n",
        "df = sklearn.utils.shuffle(df, random_state=42)\n",
        "df = df.reset_index()\n",
        "\n",
        "# Transform labels from [-1, 1] to [0, 1] for XGBoost compatibility\n",
        "df['Result'] = (df['Result'] + 1) // 2  # Convert -1 to 0, and 1 stays 1\n",
        "\n",
        "X = df.drop(\"Result\", axis=1).values\n",
        "X = preprocessing.scale(X)\n",
        "y = df['Result'].values\n",
        "fold_count = 10\n",
        "print(\"\\n5 random rows of data:\")\n",
        "print(df.sample(n=5, random_state=42).to_string())"
      ]
    },
    {
      "cell_type": "markdown",
      "source": [
        "# Classication models for phishing detection:\n"
      ],
      "metadata": {
        "id": "AeuUhiM8K8lQ"
      }
    },
    {
      "cell_type": "markdown",
      "source": [
        "Logistic Regression"
      ],
      "metadata": {
        "id": "7m-c_NA0LA4L"
      }
    },
    {
      "cell_type": "code",
      "source": [
        "print(\"\\nLogistic Regression Classification Results:\")\n",
        "logistic_clf = LogisticRegression(random_state=42)\n",
        "lr_scores = evaluate_model(logistic_clf, X, y)\n",
        "print(\"Logistic Regression Metrics:\")\n",
        "print(f\"Accuracy: {lr_scores['accuracy']:.4f}\")\n",
        "print(f\"Recall: {lr_scores['recall']:.4f}\")\n",
        "print(f\"Precision: {lr_scores['precision']:.4f}\")\n",
        "print(f\"F1 Score: {lr_scores['f1']:.4f}\")\n",
        "print(f\"Average Training Time: {lr_scores['train_time']:.4f}s\")\n",
        "print(f\"Average Testing Time: {lr_scores['test_time']:.4f}s\")"
      ],
      "metadata": {
        "colab": {
          "base_uri": "https://localhost:8080/"
        },
        "id": "axvYM1MKLEXX",
        "outputId": "044ed759-988f-4498-d08c-360e8bbbbcd4"
      },
      "execution_count": 5,
      "outputs": [
        {
          "output_type": "stream",
          "name": "stdout",
          "text": [
            "\n",
            "Logistic Regression Classification Results:\n",
            "Logistic Regression Metrics:\n",
            "Accuracy: 0.9338\n",
            "Recall: 0.9046\n",
            "Precision: 0.9261\n",
            "F1 Score: 0.9152\n",
            "Average Training Time: 0.1621s\n",
            "Average Testing Time: 0.0021s\n"
          ]
        }
      ]
    },
    {
      "cell_type": "markdown",
      "source": [
        "XGBoost"
      ],
      "metadata": {
        "id": "GoSQ09zCK_XI"
      }
    },
    {
      "cell_type": "code",
      "source": [
        "print(\"\\nXGBoost Classification Results:\")\n",
        "XGB_clf = XGBClassifier(random_state=42, use_label_encoder=False, eval_metric='logloss')\n",
        "xgb_scores = evaluate_model(XGB_clf, X, y)\n",
        "\n",
        "print(\"XGBoost Metrics:\")\n",
        "print(f\"Accuracy: {xgb_scores['accuracy']:.4f}\")\n",
        "print(f\"Recall: {xgb_scores['recall']:.4f}\")\n",
        "print(f\"Precision: {xgb_scores['precision']:.4f}\")\n",
        "print(f\"F1 Score: {xgb_scores['f1']:.4f}\")\n",
        "print(f\"Average Training Time: {xgb_scores['train_time']:.4f}s\")\n",
        "print(f\"Average Testing Time: {xgb_scores['test_time']:.4f}s\")"
      ],
      "metadata": {
        "colab": {
          "base_uri": "https://localhost:8080/"
        },
        "id": "nIhAB5XkaH_n",
        "outputId": "8913494d-89b2-44c3-ac71-fcc32e6f7486"
      },
      "execution_count": 6,
      "outputs": [
        {
          "output_type": "stream",
          "name": "stdout",
          "text": [
            "\n",
            "XGBoost Classification Results:\n"
          ]
        },
        {
          "output_type": "stream",
          "name": "stderr",
          "text": [
            "/usr/local/lib/python3.10/dist-packages/xgboost/core.py:158: UserWarning: [19:03:10] WARNING: /workspace/src/learner.cc:740: \n",
            "Parameters: { \"use_label_encoder\" } are not used.\n",
            "\n",
            "  warnings.warn(smsg, UserWarning)\n",
            "/usr/local/lib/python3.10/dist-packages/xgboost/core.py:158: UserWarning: [19:03:11] WARNING: /workspace/src/learner.cc:740: \n",
            "Parameters: { \"use_label_encoder\" } are not used.\n",
            "\n",
            "  warnings.warn(smsg, UserWarning)\n",
            "/usr/local/lib/python3.10/dist-packages/xgboost/core.py:158: UserWarning: [19:03:11] WARNING: /workspace/src/learner.cc:740: \n",
            "Parameters: { \"use_label_encoder\" } are not used.\n",
            "\n",
            "  warnings.warn(smsg, UserWarning)\n",
            "/usr/local/lib/python3.10/dist-packages/xgboost/core.py:158: UserWarning: [19:03:12] WARNING: /workspace/src/learner.cc:740: \n",
            "Parameters: { \"use_label_encoder\" } are not used.\n",
            "\n",
            "  warnings.warn(smsg, UserWarning)\n",
            "/usr/local/lib/python3.10/dist-packages/xgboost/core.py:158: UserWarning: [19:03:12] WARNING: /workspace/src/learner.cc:740: \n",
            "Parameters: { \"use_label_encoder\" } are not used.\n",
            "\n",
            "  warnings.warn(smsg, UserWarning)\n",
            "/usr/local/lib/python3.10/dist-packages/xgboost/core.py:158: UserWarning: [19:03:12] WARNING: /workspace/src/learner.cc:740: \n",
            "Parameters: { \"use_label_encoder\" } are not used.\n",
            "\n",
            "  warnings.warn(smsg, UserWarning)\n",
            "/usr/local/lib/python3.10/dist-packages/xgboost/core.py:158: UserWarning: [19:03:13] WARNING: /workspace/src/learner.cc:740: \n",
            "Parameters: { \"use_label_encoder\" } are not used.\n",
            "\n",
            "  warnings.warn(smsg, UserWarning)\n",
            "/usr/local/lib/python3.10/dist-packages/xgboost/core.py:158: UserWarning: [19:03:13] WARNING: /workspace/src/learner.cc:740: \n",
            "Parameters: { \"use_label_encoder\" } are not used.\n",
            "\n",
            "  warnings.warn(smsg, UserWarning)\n",
            "/usr/local/lib/python3.10/dist-packages/xgboost/core.py:158: UserWarning: [19:03:14] WARNING: /workspace/src/learner.cc:740: \n",
            "Parameters: { \"use_label_encoder\" } are not used.\n",
            "\n",
            "  warnings.warn(smsg, UserWarning)\n",
            "/usr/local/lib/python3.10/dist-packages/xgboost/core.py:158: UserWarning: [19:03:14] WARNING: /workspace/src/learner.cc:740: \n",
            "Parameters: { \"use_label_encoder\" } are not used.\n",
            "\n",
            "  warnings.warn(smsg, UserWarning)\n"
          ]
        },
        {
          "output_type": "stream",
          "name": "stdout",
          "text": [
            "XGBoost Metrics:\n",
            "Accuracy: 0.9677\n",
            "Recall: 0.9628\n",
            "Precision: 0.9559\n",
            "F1 Score: 0.9593\n",
            "Average Training Time: 0.4225s\n",
            "Average Testing Time: 0.0109s\n"
          ]
        }
      ]
    }
  ]
}